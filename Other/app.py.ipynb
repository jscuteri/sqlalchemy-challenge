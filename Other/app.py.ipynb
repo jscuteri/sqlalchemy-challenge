{
 "cells": [
  {
   "cell_type": "code",
   "execution_count": 22,
   "id": "e3e7e540",
   "metadata": {},
   "outputs": [],
   "source": [
    "# Ignore SQLITE warnings related to Decimal numbers in the Chinook database\n",
    "import warnings\n",
    "warnings.filterwarnings('ignore')"
   ]
  },
  {
   "cell_type": "code",
   "execution_count": 52,
   "id": "bc8ad9ee",
   "metadata": {},
   "outputs": [],
   "source": [
    "# Import Dependencies\n",
    "import sqlalchemy\n",
    "from sqlalchemy.ext.automap import automap_base\n",
    "from sqlalchemy.orm import Session\n",
    "from sqlalchemy import create_engine\n",
    "from sqlalchemy import func\n",
    "\n",
    "import numpy as np\n",
    "import pandas as pd\n",
    "import datetime as dt\n",
    "\n",
    "%matplotlib inline\n",
    "from matplotlib import style\n",
    "style.use('fivethirtyeight')\n",
    "import matplotlib.pyplot as plt\n",
    "\n",
    "from flask import Flask, jsonify"
   ]
  },
  {
   "cell_type": "code",
   "execution_count": 53,
   "id": "3ab6ff76",
   "metadata": {},
   "outputs": [],
   "source": [
    "# create engine to hawaii.sqlite\n",
    "engine = create_engine(\"sqlite:///../Homework/Instructions/Resources/hawaii.sqlite\")"
   ]
  },
  {
   "cell_type": "code",
   "execution_count": 54,
   "id": "09d87fb7",
   "metadata": {},
   "outputs": [
    {
     "data": {
      "text/plain": [
       "['measurement', 'station']"
      ]
     },
     "execution_count": 54,
     "metadata": {},
     "output_type": "execute_result"
    }
   ],
   "source": [
    "# Reflect Database into ORM classes\n",
    "Base = automap_base()\n",
    "Base.prepare(engine, reflect=True)\n",
    "Base.classes.keys()"
   ]
  },
  {
   "cell_type": "code",
   "execution_count": 55,
   "id": "419852f5",
   "metadata": {},
   "outputs": [
    {
     "data": {
      "text/plain": [
       "sqlalchemy.ext.automap.station"
      ]
     },
     "execution_count": 55,
     "metadata": {},
     "output_type": "execute_result"
    }
   ],
   "source": [
    "# Save references to each table\n",
    "Measurement = Base.classes.measurement\n",
    "Measurement\n",
    "\n",
    "Station = Base.classes.station\n",
    "Station"
   ]
  },
  {
   "cell_type": "code",
   "execution_count": 56,
   "id": "83e17279",
   "metadata": {},
   "outputs": [
    {
     "data": {
      "text/plain": [
       "<sqlalchemy.orm.session.Session at 0x7f9c230db130>"
      ]
     },
     "execution_count": 56,
     "metadata": {},
     "output_type": "execute_result"
    }
   ],
   "source": [
    "# Create our session (link) from Python to the DB\n",
    "session = Session(engine)\n",
    "session"
   ]
  },
  {
   "cell_type": "code",
   "execution_count": 58,
   "id": "3a9c665f",
   "metadata": {},
   "outputs": [],
   "source": [
    "# re-run your query from Part 1 of the homework:\n",
    "\n",
    "# Most recent date\n",
    "\n",
    "descending = session.query(Measurement.date).order_by((Measurement.date).desc())\n",
    "recent_date = descending.first()\n",
    "\n",
    "# 1 year ago from most recent date\n",
    "\n",
    "year_ago = dt.date(2017, 8, 23) - dt.timedelta(days=365)\n",
    "\n",
    "# Creating the query DF\n",
    "\n",
    "precipitation = session.query(Measurement).\\\n",
    "    filter(Measurement.date >= year_ago).all()\n",
    "\n",
    "rain = []\n",
    "for x in precipitation:\n",
    "    rain.append(x.prcp)\n",
    "rain\n",
    "\n",
    "date = []\n",
    "for y in precipitation:\n",
    "    date.append(y.date)\n",
    "date\n",
    "    \n",
    "zipped = zip(date, rain)\n",
    "zipped_list = list(zipped)\n",
    "\n",
    "# setting df index\n",
    "\n",
    "df = pd.DataFrame(zipped_list, columns =['Date', \"Precipitation\"])\n",
    "date_index = df.set_index(\"Date\")\n",
    "\n",
    "# sorting the df\n",
    "\n",
    "sorted_df = date_index.sort_values (by = 'Date')\n"
   ]
  },
  {
   "cell_type": "code",
   "execution_count": 59,
   "id": "97caeb33",
   "metadata": {},
   "outputs": [],
   "source": [
    "# set dataframe to dictionary\n",
    "\n",
    "dictionary_df = sorted_df.to_dict()"
   ]
  },
  {
   "cell_type": "code",
   "execution_count": 60,
   "id": "646a8aba",
   "metadata": {},
   "outputs": [
    {
     "data": {
      "text/plain": [
       "[('USC00511918',),\n",
       " ('USC00513117',),\n",
       " ('USC00514830',),\n",
       " ('USC00516128',),\n",
       " ('USC00517948',),\n",
       " ('USC00518838',),\n",
       " ('USC00519281',),\n",
       " ('USC00519397',),\n",
       " ('USC00519523',)]"
      ]
     },
     "execution_count": 60,
     "metadata": {},
     "output_type": "execute_result"
    }
   ],
   "source": [
    "station_list = session.query(Station.station).\\\n",
    "    group_by(Station.station).\\\n",
    "    all()\n",
    "station_list"
   ]
  },
  {
   "cell_type": "code",
   "execution_count": 64,
   "id": "3a24280c",
   "metadata": {},
   "outputs": [
    {
     "name": "stdout",
     "output_type": "stream",
     "text": [
      "Station ID & Lowest temperature: [('USC00519281', 54.0)]\n",
      "Station ID & Highest temperature: [('USC00519281', 85.0)]\n",
      "Station ID & Average temperature: [('USC00519281', 71.66378066378067)]\n"
     ]
    }
   ],
   "source": [
    "# Using the most active station id from the previous query, calculate the lowest, highest, and average temperature.\n",
    "\n",
    "lowest_temp = (session.query(Measurement.station, func.min(Measurement.tobs)).\\\n",
    "    filter(Measurement.station == 'USC00519281').\\\n",
    "    group_by(Measurement.station).\\\n",
    "    order_by(func.min(Measurement.station).desc()).\\\n",
    "    all())\n",
    "#print(lowest_temp)\n",
    "print(f\"Station ID & Lowest temperature: {lowest_temp}\")\n",
    "\n",
    "highest_temp = (session.query(Measurement.station, func.max(Measurement.tobs)).\\\n",
    "    filter(Measurement.station == 'USC00519281').\\\n",
    "    group_by(Measurement.station).\\\n",
    "    order_by(func.max(Measurement.station).desc()).\\\n",
    "    all())\n",
    "#print(highest_temp)\n",
    "print(f\"Station ID & Highest temperature: {highest_temp}\")\n",
    "\n",
    "average_temp = (session.query(Measurement.station, func.avg(Measurement.tobs)).\\\n",
    "    filter(Measurement.station == 'USC00519281').\\\n",
    "    group_by(Measurement.station).\\\n",
    "    order_by(func.avg(Measurement.station).desc()).\\\n",
    "    all())\n",
    "#print(average_temp)\n",
    "print(f\"Station ID & Average temperature: {average_temp}\")"
   ]
  },
  {
   "cell_type": "code",
   "execution_count": 61,
   "id": "a5c881b2",
   "metadata": {},
   "outputs": [],
   "source": [
    "# create the connection to Flask\n",
    "app = Flask(__name__)"
   ]
  },
  {
   "cell_type": "code",
   "execution_count": 62,
   "id": "9008d115",
   "metadata": {},
   "outputs": [],
   "source": [
    "# Homepage and routes\n",
    "@app.route(\"/\")\n",
    "def home():\n",
    "    return (\n",
    "        f\"Welcome to the Climate Analysis and Exploration homepage!<br/>\"\n",
    "        f\"<br/>\" \n",
    "        f\"Available Routes:<br/>\"\n",
    "        f\"<br/>\" \n",
    "        f\"/api/v1.0/precipitation<br/>\"\n",
    "        f\"/api/v1.0/stations<br/>\"\n",
    "        f\"/api/v1.0/tobs<br/>\"\n",
    "        f\"/api/v1.0/<start><br/>\"\n",
    "        f\"/api/v1.0/<start>/<end><br/>\"\n",
    "    )"
   ]
  },
  {
   "cell_type": "code",
   "execution_count": 63,
   "id": "281a9f86",
   "metadata": {},
   "outputs": [],
   "source": [
    "@app.route(\"/api/v1.0/precipitation\")\n",
    "def precipitation1():\n",
    "    return jsonify(dictionary_df)"
   ]
  },
  {
   "cell_type": "code",
   "execution_count": 66,
   "id": "70ce59b5",
   "metadata": {},
   "outputs": [],
   "source": [
    "@app.route(\"/api/v1.0/stations\")\n",
    "def station():\n",
    "    return jsonify(station_list)"
   ]
  },
  {
   "cell_type": "code",
   "execution_count": null,
   "id": "6038196a",
   "metadata": {},
   "outputs": [],
   "source": [
    "@app.route(\"/api/v1.0/tobs\")\n",
    "def tobs():\n",
    "    return jsonify(\n",
    "        lowest_temp,\n",
    "        highest_temp,\n",
    "        average_temp\n",
    "    )"
   ]
  }
 ],
 "metadata": {
  "kernelspec": {
   "display_name": "Python 3 (ipykernel)",
   "language": "python",
   "name": "python3"
  },
  "language_info": {
   "codemirror_mode": {
    "name": "ipython",
    "version": 3
   },
   "file_extension": ".py",
   "mimetype": "text/x-python",
   "name": "python",
   "nbconvert_exporter": "python",
   "pygments_lexer": "ipython3",
   "version": "3.8.11"
  }
 },
 "nbformat": 4,
 "nbformat_minor": 5
}
